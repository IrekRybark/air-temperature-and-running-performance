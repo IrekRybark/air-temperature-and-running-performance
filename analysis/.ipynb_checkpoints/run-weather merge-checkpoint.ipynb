{
 "cells": [
  {
   "cell_type": "code",
   "execution_count": 127,
   "metadata": {
    "collapsed": true
   },
   "outputs": [],
   "source": [
    "import pandas as pd\n",
    "from pandas import Series, DataFrame\n",
    "import numpy as np\n",
    "import datetime as dt\n",
    "from datetime import datetime as datetime"
   ]
  },
  {
   "cell_type": "code",
   "execution_count": 128,
   "metadata": {
    "collapsed": false
   },
   "outputs": [],
   "source": [
    "rr = pd.read_pickle(\"../data/2. cleansed/runs.pkl\")\n",
    "tp = pd.read_pickle(\"../data/2. cleansed/weather.pkl\")"
   ]
  },
  {
   "cell_type": "markdown",
   "metadata": {},
   "source": [
    "# Merge temperature data"
   ]
  },
  {
   "cell_type": "code",
   "execution_count": 129,
   "metadata": {
    "collapsed": false
   },
   "outputs": [],
   "source": [
    "def get_temperature(date):\n",
    "    res = tp.loc[(tp.YR == date.year) & \n",
    "                 (tp.M == date.month) &\n",
    "                 (tp.D == date.day) & \n",
    "                 (tp.HR == date.hour)] # ignore minutes\n",
    "    if len(res) > 0:\n",
    "        return res.TEMP.iloc[0] # just take the first matching record\n",
    "    else:\n",
    "        return np.NaN\n"
   ]
  },
  {
   "cell_type": "code",
   "execution_count": 130,
   "metadata": {
    "collapsed": false
   },
   "outputs": [],
   "source": [
    "rr[\"Temperature\"] = rr[\"Begin Timestamp\"].apply(lambda x: get_temperature(x))"
   ]
  },
  {
   "cell_type": "code",
   "execution_count": 131,
   "metadata": {
    "collapsed": false
   },
   "outputs": [
    {
     "name": "stdout",
     "output_type": "stream",
     "text": [
      "70\n",
      "68\n"
     ]
    }
   ],
   "source": [
    "print(len(rr))\n",
    "rr.dropna(inplace=True)\n",
    "print(len(rr))"
   ]
  },
  {
   "cell_type": "code",
   "execution_count": 132,
   "metadata": {
    "collapsed": false
   },
   "outputs": [
    {
     "data": {
      "text/html": [
       "<div>\n",
       "<table border=\"1\" class=\"dataframe\">\n",
       "  <thead>\n",
       "    <tr style=\"text-align: right;\">\n",
       "      <th></th>\n",
       "      <th>Activity ID</th>\n",
       "      <th>Activity Name</th>\n",
       "      <th>Begin Timestamp</th>\n",
       "      <th>End Timestamp</th>\n",
       "      <th>Activity Parent</th>\n",
       "      <th>Activity Type</th>\n",
       "      <th>Event Type</th>\n",
       "      <th>Activity Time Zone</th>\n",
       "      <th>Max. Elevation (Raw)</th>\n",
       "      <th>Average Moving Speed (Raw)</th>\n",
       "      <th>...</th>\n",
       "      <th>Max. Speed (Raw)</th>\n",
       "      <th>Calories (Raw)</th>\n",
       "      <th>Duration (Raw Seconds)</th>\n",
       "      <th>Moving Duration (Raw Seconds)</th>\n",
       "      <th>Average Speed (Raw)</th>\n",
       "      <th>Distance (Raw)</th>\n",
       "      <th>Min. Elevation (Raw)</th>\n",
       "      <th>Elevation Gain (Raw)</th>\n",
       "      <th>Elevation Loss (Raw)</th>\n",
       "      <th>Temperature</th>\n",
       "    </tr>\n",
       "  </thead>\n",
       "  <tbody>\n",
       "    <tr>\n",
       "      <th>51</th>\n",
       "      <td>723573966</td>\n",
       "      <td>3.3mi Easy</td>\n",
       "      <td>2014-10-23 05:40:00</td>\n",
       "      <td>2014-10-23 06:20:00</td>\n",
       "      <td>Running</td>\n",
       "      <td>Street Running</td>\n",
       "      <td>Uncategorized</td>\n",
       "      <td>(GMT-05:00) Eastern Time (US &amp; Canada)</td>\n",
       "      <td>353.707349</td>\n",
       "      <td>11.020408</td>\n",
       "      <td>...</td>\n",
       "      <td>7.797121</td>\n",
       "      <td>375.893194</td>\n",
       "      <td>2398.00</td>\n",
       "      <td>2207</td>\n",
       "      <td>11.973446</td>\n",
       "      <td>3.337745</td>\n",
       "      <td>353.707349</td>\n",
       "      <td>274.376640</td>\n",
       "      <td>430.511811</td>\n",
       "      <td>11.1</td>\n",
       "    </tr>\n",
       "    <tr>\n",
       "      <th>55</th>\n",
       "      <td>605880194</td>\n",
       "      <td>3.3mi Easy w/ Office Team</td>\n",
       "      <td>2014-10-01 05:35:00</td>\n",
       "      <td>2014-10-01 06:13:00</td>\n",
       "      <td>Running</td>\n",
       "      <td>Street Running</td>\n",
       "      <td>Uncategorized</td>\n",
       "      <td>(GMT-05:00) Eastern Time (US &amp; Canada)</td>\n",
       "      <td>112.401575</td>\n",
       "      <td>10.827904</td>\n",
       "      <td>...</td>\n",
       "      <td>6.485839</td>\n",
       "      <td>394.031532</td>\n",
       "      <td>2271.00</td>\n",
       "      <td>2172</td>\n",
       "      <td>11.317652</td>\n",
       "      <td>3.343213</td>\n",
       "      <td>112.401575</td>\n",
       "      <td>102.493438</td>\n",
       "      <td>116.699475</td>\n",
       "      <td>15.6</td>\n",
       "    </tr>\n",
       "    <tr>\n",
       "      <th>56</th>\n",
       "      <td>602311054</td>\n",
       "      <td>3.1mi Easy</td>\n",
       "      <td>2014-09-30 06:16:00</td>\n",
       "      <td>2014-09-30 06:47:00</td>\n",
       "      <td>Running</td>\n",
       "      <td>Street Running</td>\n",
       "      <td>Training</td>\n",
       "      <td>(GMT-05:00) Eastern Time (US &amp; Canada)</td>\n",
       "      <td>132.906824</td>\n",
       "      <td>9.910373</td>\n",
       "      <td>...</td>\n",
       "      <td>7.767573</td>\n",
       "      <td>375.893194</td>\n",
       "      <td>1881.00</td>\n",
       "      <td>1870</td>\n",
       "      <td>9.966549</td>\n",
       "      <td>3.144853</td>\n",
       "      <td>132.906824</td>\n",
       "      <td>230.249344</td>\n",
       "      <td>164.009186</td>\n",
       "      <td>16.1</td>\n",
       "    </tr>\n",
       "    <tr>\n",
       "      <th>57</th>\n",
       "      <td>602311031</td>\n",
       "      <td>3.3mi Easy w/ Office Team</td>\n",
       "      <td>2014-09-25 05:55:00</td>\n",
       "      <td>2014-09-25 06:32:00</td>\n",
       "      <td>Running</td>\n",
       "      <td>Street Running</td>\n",
       "      <td>Training</td>\n",
       "      <td>(GMT-05:00) Eastern Time (US &amp; Canada)</td>\n",
       "      <td>132.906824</td>\n",
       "      <td>10.700799</td>\n",
       "      <td>...</td>\n",
       "      <td>6.367778</td>\n",
       "      <td>304.055828</td>\n",
       "      <td>2216.00</td>\n",
       "      <td>2144</td>\n",
       "      <td>11.059954</td>\n",
       "      <td>3.339317</td>\n",
       "      <td>132.906824</td>\n",
       "      <td>301.213911</td>\n",
       "      <td>294.881890</td>\n",
       "      <td>17.2</td>\n",
       "    </tr>\n",
       "    <tr>\n",
       "      <th>58</th>\n",
       "      <td>597825456</td>\n",
       "      <td>3.2mi Easy</td>\n",
       "      <td>2014-09-24 06:13:00</td>\n",
       "      <td>2014-09-24 06:45:00</td>\n",
       "      <td>Running</td>\n",
       "      <td>Street Running</td>\n",
       "      <td>Training</td>\n",
       "      <td>(GMT-05:00) Eastern Time (US &amp; Canada)</td>\n",
       "      <td>99.803150</td>\n",
       "      <td>9.772197</td>\n",
       "      <td>...</td>\n",
       "      <td>6.269734</td>\n",
       "      <td>373.983895</td>\n",
       "      <td>1927.68</td>\n",
       "      <td>1853</td>\n",
       "      <td>10.166038</td>\n",
       "      <td>3.160325</td>\n",
       "      <td>99.803150</td>\n",
       "      <td>275.984252</td>\n",
       "      <td>245.997375</td>\n",
       "      <td>8.3</td>\n",
       "    </tr>\n",
       "  </tbody>\n",
       "</table>\n",
       "<p>5 rows × 22 columns</p>\n",
       "</div>"
      ],
      "text/plain": [
       "    Activity ID              Activity Name     Begin Timestamp  \\\n",
       "51    723573966                 3.3mi Easy 2014-10-23 05:40:00   \n",
       "55    605880194  3.3mi Easy w/ Office Team 2014-10-01 05:35:00   \n",
       "56    602311054                 3.1mi Easy 2014-09-30 06:16:00   \n",
       "57    602311031  3.3mi Easy w/ Office Team 2014-09-25 05:55:00   \n",
       "58    597825456                 3.2mi Easy 2014-09-24 06:13:00   \n",
       "\n",
       "         End Timestamp Activity Parent   Activity Type     Event Type  \\\n",
       "51 2014-10-23 06:20:00         Running  Street Running  Uncategorized   \n",
       "55 2014-10-01 06:13:00         Running  Street Running  Uncategorized   \n",
       "56 2014-09-30 06:47:00         Running  Street Running       Training   \n",
       "57 2014-09-25 06:32:00         Running  Street Running       Training   \n",
       "58 2014-09-24 06:45:00         Running  Street Running       Training   \n",
       "\n",
       "                        Activity Time Zone  Max. Elevation (Raw)  \\\n",
       "51  (GMT-05:00) Eastern Time (US & Canada)            353.707349   \n",
       "55  (GMT-05:00) Eastern Time (US & Canada)            112.401575   \n",
       "56  (GMT-05:00) Eastern Time (US & Canada)            132.906824   \n",
       "57  (GMT-05:00) Eastern Time (US & Canada)            132.906824   \n",
       "58  (GMT-05:00) Eastern Time (US & Canada)             99.803150   \n",
       "\n",
       "    Average Moving Speed (Raw)     ...       Max. Speed (Raw)  Calories (Raw)  \\\n",
       "51                   11.020408     ...               7.797121      375.893194   \n",
       "55                   10.827904     ...               6.485839      394.031532   \n",
       "56                    9.910373     ...               7.767573      375.893194   \n",
       "57                   10.700799     ...               6.367778      304.055828   \n",
       "58                    9.772197     ...               6.269734      373.983895   \n",
       "\n",
       "    Duration (Raw Seconds)  Moving Duration (Raw Seconds)  \\\n",
       "51                 2398.00                           2207   \n",
       "55                 2271.00                           2172   \n",
       "56                 1881.00                           1870   \n",
       "57                 2216.00                           2144   \n",
       "58                 1927.68                           1853   \n",
       "\n",
       "    Average Speed (Raw)  Distance (Raw)  Min. Elevation (Raw)  \\\n",
       "51            11.973446        3.337745            353.707349   \n",
       "55            11.317652        3.343213            112.401575   \n",
       "56             9.966549        3.144853            132.906824   \n",
       "57            11.059954        3.339317            132.906824   \n",
       "58            10.166038        3.160325             99.803150   \n",
       "\n",
       "    Elevation Gain (Raw)  Elevation Loss (Raw)  Temperature  \n",
       "51            274.376640            430.511811         11.1  \n",
       "55            102.493438            116.699475         15.6  \n",
       "56            230.249344            164.009186         16.1  \n",
       "57            301.213911            294.881890         17.2  \n",
       "58            275.984252            245.997375          8.3  \n",
       "\n",
       "[5 rows x 22 columns]"
      ]
     },
     "execution_count": 132,
     "metadata": {},
     "output_type": "execute_result"
    }
   ],
   "source": [
    "rr.head()"
   ]
  },
  {
   "cell_type": "code",
   "execution_count": 133,
   "metadata": {
    "collapsed": true
   },
   "outputs": [],
   "source": [
    "rr.to_pickle(\"../data/2. cleansed/runs-weather.pkl\")"
   ]
  },
  {
   "cell_type": "code",
   "execution_count": null,
   "metadata": {
    "collapsed": true
   },
   "outputs": [],
   "source": []
  }
 ],
 "metadata": {
  "kernelspec": {
   "display_name": "Python 3",
   "language": "python",
   "name": "python3"
  },
  "language_info": {
   "codemirror_mode": {
    "name": "ipython",
    "version": 3
   },
   "file_extension": ".py",
   "mimetype": "text/x-python",
   "name": "python",
   "nbconvert_exporter": "python",
   "pygments_lexer": "ipython3",
   "version": "3.5.1"
  }
 },
 "nbformat": 4,
 "nbformat_minor": 0
}
