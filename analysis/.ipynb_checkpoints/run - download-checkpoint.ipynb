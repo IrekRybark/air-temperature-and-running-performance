{
 "cells": [
  {
   "cell_type": "markdown",
   "metadata": {},
   "source": [
    "# Determine USAF adn WBAN id of Somerset airport"
   ]
  },
  {
   "cell_type": "raw",
   "metadata": {},
   "source": [
    "\n",
    "file <- \"ftp://ftp.ncdc.noaa.gov/pub/data/noaa/isd-history.csv\"\n",
    "repeat {\n",
    "  try(download.file(file, \"data/isd-history.csv\", quiet = TRUE))\n",
    "  if (file.info(\"data/ish-history.csv\")$size > 0) {\n",
    "    break\n",
    "  }\n",
    "}\n",
    "st <- read.csv(\"data/isd-history.csv\")\n",
    "dim(st)\n",
    "names(st)  \n",
    "\n",
    "st[st$ICAO == \"KSMQ\",]\n",
    "        USAF  WBAN               NAME CTRY ICAO    LAT     LON ELEV.M.     ELEV      END\n",
    "#18077 722247 54785   SOMERSET AIRPORT   US KSMQ 40.624 -74.669      32 20060101 20150513\n",
    "#18078 722247 99999           SOMERSET   US KSMQ 40.633 -74.667      32 20050217 20051231\n",
    "#19188 724104 99999 SOMERSET ARPT ASOS   US KSMQ 40.633 -74.667      32 19990114 20050208\n"
   ]
  },
  {
   "cell_type": "markdown",
   "metadata": {},
   "source": [
    "# Download the interesting files from NOAA"
   ]
  },
  {
   "cell_type": "raw",
   "metadata": {},
   "source": [
    "system(\"gunzip -r data/raw\", intern = FALSE, ignore.stderr = TRUE)\n",
    "\n",
    "download files from ftp://ftp.ncdc.noaa.gov/pub/data/noaa/ to .tmp folder\n",
    "ftp://ftp.ncdc.noaa.gov/pub/data/noaa/2015/722247-54785-2015.gz\n",
    "ftp://ftp.ncdc.noaa.gov/pub/data/noaa/2014/722247-54785-2014.gz\n",
    "ftp://ftp.ncdc.noaa.gov/pub/data/noaa/2013/722247-54785-2013.gz\n",
    "\n",
    "uncompress the data to data/raw/ folder\n",
    "722247-54785-2015\n",
    "722247-54785-2014\n",
    "722247-54785-2013"
   ]
  },
  {
   "cell_type": "code",
   "execution_count": null,
   "metadata": {
    "collapsed": true
   },
   "outputs": [],
   "source": []
  }
 ],
 "metadata": {
  "kernelspec": {
   "display_name": "Python 3",
   "language": "python",
   "name": "python3"
  },
  "language_info": {
   "codemirror_mode": {
    "name": "ipython",
    "version": 3
   },
   "file_extension": ".py",
   "mimetype": "text/x-python",
   "name": "python",
   "nbconvert_exporter": "python",
   "pygments_lexer": "ipython3",
   "version": "3.5.1"
  }
 },
 "nbformat": 4,
 "nbformat_minor": 0
}
